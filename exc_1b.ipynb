{
  "nbformat": 4,
  "nbformat_minor": 0,
  "metadata": {
    "kernelspec": {
      "display_name": "Python 3",
      "language": "python",
      "name": "python3"
    },
    "language_info": {
      "codemirror_mode": {
        "name": "ipython",
        "version": 3
      },
      "file_extension": ".py",
      "mimetype": "text/x-python",
      "name": "python",
      "nbconvert_exporter": "python",
      "pygments_lexer": "ipython3",
      "version": "3.8.5"
    },
    "colab": {
      "name": "exc_1b.ipynb",
      "provenance": [],
      "collapsed_sections": []
    }
  },
  "cells": [
    {
      "cell_type": "code",
      "metadata": {
        "colab": {
          "base_uri": "https://localhost:8080/"
        },
        "id": "dGwmHOMVDLbT",
        "outputId": "3780d8af-35eb-4844-a785-42a0960b2f86"
      },
      "source": [
        "pip install mip"
      ],
      "execution_count": 2,
      "outputs": [
        {
          "output_type": "stream",
          "text": [
            "Requirement already satisfied: mip in /usr/local/lib/python3.6/dist-packages (1.13.0)\n",
            "Requirement already satisfied: cffi in /usr/local/lib/python3.6/dist-packages (from mip) (1.14.4)\n",
            "Requirement already satisfied: pycparser in /usr/local/lib/python3.6/dist-packages (from cffi->mip) (2.20)\n"
          ],
          "name": "stdout"
        }
      ]
    },
    {
      "cell_type": "code",
      "metadata": {
        "id": "4JtxzssdDLbm"
      },
      "source": [
        "from mip import Model, xsum, INTEGER, MAXIMIZE, MINIMIZE"
      ],
      "execution_count": 3,
      "outputs": []
    },
    {
      "cell_type": "code",
      "metadata": {
        "id": "KO93nxMCDLbo"
      },
      "source": [
        "nvar = 2\n",
        "obj_coef = [15, 40]\n",
        "g_coef = [[1, 4], [1, -4]]\n",
        "g_val = [4080, 0]\n",
        "\n",
        "m = Model('Chapas', sense=MAXIMIZE)"
      ],
      "execution_count": 4,
      "outputs": []
    },
    {
      "cell_type": "code",
      "metadata": {
        "id": "rDG7A-oqDLbr"
      },
      "source": [
        "x = [m.add_var(name='x{}'.format(int(i)), var_type=INTEGER, lb=0) for i in range(nvar)]"
      ],
      "execution_count": 5,
      "outputs": []
    },
    {
      "cell_type": "code",
      "metadata": {
        "id": "lncYn6JdDZL3"
      },
      "source": [
        "m.objective = xsum(obj_coef[i] * x[i] for i in range(nvar))"
      ],
      "execution_count": 6,
      "outputs": []
    },
    {
      "cell_type": "code",
      "metadata": {
        "id": "ebQvfHFlEANx"
      },
      "source": [
        "for i in range(len(g_val)):\r\n",
        "  m += xsum(g_coef[i][j]*x[j] for j in range(nvar)) <= g_val[i]"
      ],
      "execution_count": 7,
      "outputs": []
    },
    {
      "cell_type": "code",
      "metadata": {
        "colab": {
          "base_uri": "https://localhost:8080/"
        },
        "id": "MvGPHut6FjVo",
        "outputId": "bb53590c-a458-4c0c-e096-3b4e792cc6b0"
      },
      "source": [
        "m.optimize()"
      ],
      "execution_count": 8,
      "outputs": [
        {
          "output_type": "execute_result",
          "data": {
            "text/plain": [
              "<OptimizationStatus.OPTIMAL: 0>"
            ]
          },
          "metadata": {
            "tags": []
          },
          "execution_count": 8
        }
      ]
    },
    {
      "cell_type": "code",
      "metadata": {
        "colab": {
          "base_uri": "https://localhost:8080/"
        },
        "id": "GYLQTCMoFmKZ",
        "outputId": "059f9979-8570-494b-85a5-5fe0d22f46c3"
      },
      "source": [
        "print('Optimize Solution: {}'.format([x[i].x for i in range(nvar)]))"
      ],
      "execution_count": 9,
      "outputs": [
        {
          "output_type": "stream",
          "text": [
            "Optimize Solution: [2040.0, 510.0]\n"
          ],
          "name": "stdout"
        }
      ]
    }
  ]
}